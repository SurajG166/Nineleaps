{
 "cells": [
  {
   "cell_type": "code",
   "execution_count": 3,
   "id": "80c869f3-6059-4333-b79b-1c642a524a3b",
   "metadata": {},
   "outputs": [
    {
     "name": "stdout",
     "output_type": "stream",
     "text": [
      "Defaulting to user installation because normal site-packages is not writeable\n",
      "Collecting openpyxl\n",
      "  Downloading openpyxl-3.1.5-py2.py3-none-any.whl (250 kB)\n",
      "\u001b[2K     \u001b[38;2;114;156;31m━━━━━━━━━━━━━━━━━━━━━━━━━━━━━━━━━━━━━━━\u001b[0m \u001b[32m250.9/250.9 KB\u001b[0m \u001b[31m1.8 MB/s\u001b[0m eta \u001b[36m0:00:00\u001b[0m[36m0:00:01\u001b[0mm eta \u001b[36m0:00:01\u001b[0m\n",
      "\u001b[?25hCollecting et-xmlfile\n",
      "  Downloading et_xmlfile-2.0.0-py3-none-any.whl (18 kB)\n",
      "Installing collected packages: et-xmlfile, openpyxl\n",
      "Successfully installed et-xmlfile-2.0.0 openpyxl-3.1.5\n"
     ]
    }
   ],
   "source": [
    "!pip install openpyxl\n"
   ]
  },
  {
   "cell_type": "code",
   "execution_count": 4,
   "id": "52230dd3-cb72-4f6e-938e-c7b50070f280",
   "metadata": {},
   "outputs": [
    {
     "name": "stdout",
     "output_type": "stream",
     "text": [
      "Data cleaning completed and saved to CSV files.\n"
     ]
    }
   ],
   "source": [
    "import pandas as pd\n",
    "import sqlite3\n",
    "# Load Bollywood movies from SQLite\n",
    "conn = sqlite3.connect('python_folder/bollywood_movies.sqlite')\n",
    "bollywood_movies = pd.read_sql_query(\"SELECT * FROM movies\", conn)\n",
    "# Load Tollywood movies from Excel\n",
    "tollywood_movies = pd.read_excel('python_folder/tollywood_movies.xlsx')\n",
    "# Load Indian movies from CSV\n",
    "indian_movies = pd.read_csv('python_folder/indian_movies.csv')\n",
    "# Clean Bollywood Movies\n",
    "# Convert the first column to index\n",
    "bollywood_movies.set_index(bollywood_movies.columns[0], inplace=True)\n",
    "# Clean all columns: strip whitespace, fill missing values, and convert data types\n",
    "bollywood_movies.columns = bollywood_movies.columns.str.strip()\n",
    "bollywood_movies = bollywood_movies.apply(lambda x: x.str.strip() if x.dtype == \"object\" else x)\n",
    "bollywood_movies.fillna(0, inplace=True)  # Fill missing values with 0 for numerical columns\n",
    "# Clean Tollywood Movies\n",
    "# Convert the first column (Unnamed: 0) to index\n",
    "tollywood_movies.set_index(tollywood_movies.columns[0], inplace=True)\n",
    "# Clean all columns: strip whitespace, fill missing values, and convert data types\n",
    "tollywood_movies.columns = tollywood_movies.columns.str.strip()\n",
    "tollywood_movies = tollywood_movies.apply(lambda x: x.str.strip() if x.dtype == \"object\" else x)\n",
    "tollywood_movies.fillna(0, inplace=True)  # Fill missing values with 0 for numerical columns\n",
    "# Clean Indian Movies\n",
    "# Convert the empty column to index\n",
    "indian_movies.set_index(indian_movies.columns[0], inplace=True)\n",
    "# Clean all columns: strip whitespace, fill missing values, and convert data types\n",
    "indian_movies.columns = indian_movies.columns.str.strip()\n",
    "indian_movies = indian_movies.apply(lambda x: x.str.strip() if x.dtype == \"object\" else x)\n",
    "indian_movies.fillna(0, inplace=True)  # Fill missing values with 0 for numerical columns\n",
    "# Save cleaned data to CSV files\n",
    "bollywood_movies.to_csv('cleaned_bollywood_movies.csv', index=True)\n",
    "tollywood_movies.to_csv('cleaned_tollywood_movies.csv', index=True)\n",
    "indian_movies.to_csv('cleaned_indian_movies.csv', index=True)\n",
    "print(\"Data cleaning completed and saved to CSV files.\")"
   ]
  },
  {
   "cell_type": "code",
   "execution_count": 5,
   "id": "4998b874-50fd-4cef-90c8-5504e1a6e888",
   "metadata": {},
   "outputs": [],
   "source": [
    "import pandas as pd\n",
    "\n",
    "# Load cleaned datasets\n",
    "bollywood_df = pd.read_csv('cleaned_bollywood_movies.csv', index_col=0)\n",
    "tollywood_df = pd.read_csv('cleaned_tollywood_movies.csv', index_col=0)\n",
    "indian_df = pd.read_csv('cleaned_indian_movies.csv', index_col=0)\n"
   ]
  },
  {
   "cell_type": "code",
   "execution_count": 6,
   "id": "305b83b9-be5b-44b2-8ce8-670b93345755",
   "metadata": {},
   "outputs": [
    {
     "name": "stdout",
     "output_type": "stream",
     "text": [
      "      MovieID                         Title            Director  \\\n",
      "index                                                             \n",
      "0      MOV001                        Lagaan  Ashutosh Gowariker   \n",
      "1      MOV002   Kabhi Khushi Kabhie Gham...         Karan Johar   \n",
      "2      MOV003  M.S. Dhoni: The Untold Story       Neeraj Pandey   \n",
      "3      MOV004   Baahubali 2: The Conclusion     S. S. Rajamouli   \n",
      "4      MOV005               Chennai Express        Rohit Shetty   \n",
      "\n",
      "                           Genre  ReleaseYear  Budget (Crores)  \\\n",
      "index                                                            \n",
      "0                              0         2001              0.0   \n",
      "1                   Family Drama         2001             50.0   \n",
      "2      Biographical Sports Drama         2016              0.0   \n",
      "3            Epic Fantasy Action         2017            250.0   \n",
      "4                  Action Comedy         2013              0.0   \n",
      "\n",
      "       BoxOffice (Crores)  Rating  Duration (minutes)             LeadActor  \\\n",
      "index                                                                         \n",
      "0                   100.0     8.1                 224            Aamir Khan   \n",
      "1                   100.0     7.9                 210        Shah Rukh Khan   \n",
      "2                   215.0     7.9                 184  Sushant Singh Rajput   \n",
      "3                  1810.0     8.2                 171               Prabhas   \n",
      "4                   423.0     6.4                 141        Shah Rukh Khan   \n",
      "\n",
      "            LeadActress Language           ProductionCompany  \n",
      "index                                                         \n",
      "0           Gracy Singh    Hindi      Aamir Khan Productions  \n",
      "1                 Kajol    Hindi          Dharma Productions  \n",
      "2          Kiara Advani    Hindi            Fox Star Studios  \n",
      "3        Anushka Shetty   Telugu            Arka Media Works  \n",
      "4      Deepika Padukone    Hindi  Red Chillies Entertainment  \n"
     ]
    }
   ],
   "source": [
    "print(bollywood_df.head())"
   ]
  },
  {
   "cell_type": "code",
   "execution_count": 7,
   "id": "a9982b79-23c8-4d12-bb26-3419f78b220a",
   "metadata": {},
   "outputs": [
    {
     "name": "stdout",
     "output_type": "stream",
     "text": [
      "<class 'pandas.core.frame.DataFrame'>\n",
      "Index: 55 entries, 0 to 54\n",
      "Data columns (total 13 columns):\n",
      " #   Column              Non-Null Count  Dtype  \n",
      "---  ------              --------------  -----  \n",
      " 0   MovieID             55 non-null     object \n",
      " 1   Title               55 non-null     object \n",
      " 2   Director            55 non-null     object \n",
      " 3   Genre               55 non-null     object \n",
      " 4   ReleaseYear         55 non-null     int64  \n",
      " 5   Budget (Crores)     55 non-null     float64\n",
      " 6   BoxOffice (Crores)  55 non-null     float64\n",
      " 7   Rating              55 non-null     float64\n",
      " 8   Duration (minutes)  55 non-null     int64  \n",
      " 9   LeadActor           55 non-null     object \n",
      " 10  LeadActress         55 non-null     object \n",
      " 11  Language            55 non-null     object \n",
      " 12  ProductionCompany   55 non-null     object \n",
      "dtypes: float64(3), int64(2), object(8)\n",
      "memory usage: 6.0+ KB\n",
      "None\n"
     ]
    }
   ],
   "source": [
    "print(bollywood_df.info())"
   ]
  },
  {
   "cell_type": "code",
   "execution_count": 8,
   "id": "3980479c-a264-44d2-b25f-30c57b5058e6",
   "metadata": {},
   "outputs": [
    {
     "data": {
      "text/plain": [
       "np.int64(0)"
      ]
     },
     "execution_count": 8,
     "metadata": {},
     "output_type": "execute_result"
    }
   ],
   "source": [
    "bollywood_df.duplicated().sum()\n"
   ]
  },
  {
   "cell_type": "code",
   "execution_count": 9,
   "id": "8c6d216d-6632-48fb-99bd-0936c56b0060",
   "metadata": {},
   "outputs": [
    {
     "name": "stdout",
     "output_type": "stream",
     "text": [
      "MovieID                object\n",
      "Title                  object\n",
      "Director               object\n",
      "Genre                  object\n",
      "ReleaseYear             int64\n",
      "Budget (Crores)       float64\n",
      "BoxOffice (Crores)    float64\n",
      "Rating                float64\n",
      "Duration (minutes)      int64\n",
      "LeadActor              object\n",
      "LeadActress            object\n",
      "Language               object\n",
      "ProductionCompany      object\n",
      "dtype: object\n"
     ]
    }
   ],
   "source": [
    "print(bollywood_df.dtypes)"
   ]
  },
  {
   "cell_type": "code",
   "execution_count": 11,
   "id": "8eb19387-0566-42f2-9f45-ce7df595e89b",
   "metadata": {},
   "outputs": [],
   "source": [
    "import pandas as pd\n",
    "\n",
    "bollywood = pd.read_csv('cleaned_bollywood_movies.csv', index_col=0)\n",
    "tollywood = pd.read_csv('cleaned_tollywood_movies.csv', index_col=0)\n",
    "indian = pd.read_csv('cleaned_indian_movies.csv', index_col=0)\n"
   ]
  },
  {
   "cell_type": "code",
   "execution_count": null,
   "id": "aeb174e6-16c6-463f-987a-41f80735713c",
   "metadata": {},
   "outputs": [],
   "source": []
  }
 ],
 "metadata": {
  "kernelspec": {
   "display_name": "Python 3 (ipykernel)",
   "language": "python",
   "name": "python3"
  },
  "language_info": {
   "codemirror_mode": {
    "name": "ipython",
    "version": 3
   },
   "file_extension": ".py",
   "mimetype": "text/x-python",
   "name": "python",
   "nbconvert_exporter": "python",
   "pygments_lexer": "ipython3",
   "version": "3.10.12"
  }
 },
 "nbformat": 4,
 "nbformat_minor": 5
}
