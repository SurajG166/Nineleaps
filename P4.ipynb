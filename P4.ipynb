{
 "cells": [
  {
   "cell_type": "code",
   "execution_count": 1,
   "id": "6c4580b5-efb0-4631-84ac-2947c65a6eab",
   "metadata": {},
   "outputs": [],
   "source": [
    "import pandas as pd\n",
    "\n",
    "bollywood = pd.read_csv('cleaned_bollywood_movies.csv', index_col=0)\n",
    "tollywood = pd.read_csv('cleaned_tollywood_movies.csv', index_col=0)\n",
    "indian = pd.read_csv('cleaned_indian_movies.csv', index_col=0)\n"
   ]
  },
  {
   "cell_type": "code",
   "execution_count": 2,
   "id": "9ff190ee-5b57-4b3d-930e-15cc3af00efa",
   "metadata": {},
   "outputs": [],
   "source": [
    "bollywood['Industry'] = 'Bollywood'\n",
    "tollywood['Industry'] = 'Tollywood'\n",
    "indian['Industry'] = 'Other'\n"
   ]
  },
  {
   "cell_type": "code",
   "execution_count": 3,
   "id": "01c84e32-e14b-4633-adba-1766770e7e6c",
   "metadata": {},
   "outputs": [],
   "source": [
    "all_movies = pd.concat([bollywood, tollywood, indian], ignore_index=True)\n"
   ]
  },
  {
   "cell_type": "code",
   "execution_count": 4,
   "id": "88b2c9f8-aec0-4e84-bda0-088561971d99",
   "metadata": {},
   "outputs": [
    {
     "data": {
      "text/plain": [
       "Director\n",
       "Rohit Shetty                      inf\n",
       "Neeraj Pandey                     inf\n",
       "Ashutosh Gowariker                inf\n",
       "Nitesh Tiwari               29.571429\n",
       "Aditya Chopra               14.250000\n",
       "Parasuram                   12.000000\n",
       "Rajkumar Hirani             10.230252\n",
       "Amit Ravindernath Sharma     9.045455\n",
       "Sujoy Ghosh                  8.875000\n",
       "Shree Narayan Singh          8.000000\n",
       "Name: ROI, dtype: float64"
      ]
     },
     "execution_count": 4,
     "metadata": {},
     "output_type": "execute_result"
    }
   ],
   "source": [
    "all_movies['Profit'] = all_movies['BoxOffice (Crores)'] - all_movies['Budget (Crores)']\n",
    "all_movies['ROI'] = all_movies['Profit'] / all_movies['Budget (Crores)']\n",
    "\n",
    "top_directors = all_movies.groupby('Director')['ROI'].mean().sort_values(ascending=False).head(10)\n",
    "top_directors\n"
   ]
  },
  {
   "cell_type": "code",
   "execution_count": null,
   "id": "2642a422-5aed-4aeb-bce0-3ee5206c2363",
   "metadata": {},
   "outputs": [],
   "source": []
  }
 ],
 "metadata": {
  "kernelspec": {
   "display_name": "Python 3 (ipykernel)",
   "language": "python",
   "name": "python3"
  },
  "language_info": {
   "codemirror_mode": {
    "name": "ipython",
    "version": 3
   },
   "file_extension": ".py",
   "mimetype": "text/x-python",
   "name": "python",
   "nbconvert_exporter": "python",
   "pygments_lexer": "ipython3",
   "version": "3.10.12"
  }
 },
 "nbformat": 4,
 "nbformat_minor": 5
}
